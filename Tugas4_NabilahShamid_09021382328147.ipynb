{
  "nbformat": 4,
  "nbformat_minor": 0,
  "metadata": {
    "colab": {
      "provenance": [],
      "authorship_tag": "ABX9TyPNDAgVrgp22btKeVruK5b9",
      "include_colab_link": true
    },
    "kernelspec": {
      "name": "python3",
      "display_name": "Python 3"
    },
    "language_info": {
      "name": "python"
    }
  },
  "cells": [
    {
      "cell_type": "markdown",
      "metadata": {
        "id": "view-in-github",
        "colab_type": "text"
      },
      "source": [
        "<a href=\"https://colab.research.google.com/github/nshamid/PatternRecognition/blob/main/Tugas4_NabilahShamid_09021382328147.ipynb\" target=\"_parent\"><img src=\"https://colab.research.google.com/assets/colab-badge.svg\" alt=\"Open In Colab\"/></a>"
      ]
    },
    {
      "cell_type": "code",
      "execution_count": 1,
      "metadata": {
        "colab": {
          "base_uri": "https://localhost:8080/"
        },
        "id": "1o_TqQRaR1mB",
        "outputId": "c2ff5137-8ed9-41d2-a17c-796015a1c2ef"
      },
      "outputs": [
        {
          "output_type": "stream",
          "name": "stdout",
          "text": [
            "Probabilitas Posterior:\n",
            "P(ω1|x) = 0.4516\n",
            "P(ω2|x) = 0.5484\n",
            "\n",
            "Risk / Expected Cost:\n",
            "R(A1|x) [Decide Sea Bass] = $0.4516\n",
            "R(A2|x) [Decide Salmon]  = $1.0968\n",
            "\n",
            "Keputusan: Input x = 13 diklasifikasikan sebagai Sea Bass (ω2)\n"
          ]
        }
      ],
      "source": [
        "# Latihan 1 - Klasifikasi Ikan (Salmon vs Sea Bass)\n",
        "# --------------------------------------------------\n",
        "\n",
        "# Data diketahui dari soal\n",
        "P_w1 = 1/3     # Probabilitas prior untuk kelas Salmon (ω1)\n",
        "P_w2 = 2/3     # Probabilitas prior untuk kelas Sea Bass (ω2)\n",
        "P_x_w1 = 0.28  # Likelihood P(x | ω1)\n",
        "P_x_w2 = 0.17  # Likelihood P(x | ω2)\n",
        "\n",
        "# Cost / kerugian\n",
        "lambda_A1_w2 = 0   # Jika memutuskan Sea Bass tapi benar Sea Bass (tidak salah)\n",
        "lambda_A2_w1 = 0   # Jika memutuskan Salmon tapi benar Salmon (tidak salah)\n",
        "lambda_A2_w2 = 2   # Jika salah: memutuskan Salmon tapi ternyata Sea Bass\n",
        "lambda_A1_w1 = 1   # Jika salah: memutuskan Sea Bass tapi ternyata Salmon\n",
        "\n",
        "# --------------------------------------------------\n",
        "# 1. Hitung Probabilitas Posterior\n",
        "P_x = (P_x_w1 * P_w1) + (P_x_w2 * P_w2)\n",
        "\n",
        "P_w1_x = (P_x_w1 * P_w1) / P_x\n",
        "P_w2_x = (P_x_w2 * P_w2) / P_x\n",
        "\n",
        "print(\"Probabilitas Posterior:\")\n",
        "print(f\"P(ω1|x) = {P_w1_x:.4f}\")\n",
        "print(f\"P(ω2|x) = {P_w2_x:.4f}\")\n",
        "\n",
        "# --------------------------------------------------\n",
        "# 2. Hitung Risk / Expected Cost untuk masing-masing keputusan\n",
        "R_A1_x = (lambda_A1_w1 * P_w1_x) + (lambda_A1_w2 * P_w2_x)\n",
        "R_A2_x = (lambda_A2_w1 * P_w1_x) + (lambda_A2_w2 * P_w2_x)\n",
        "\n",
        "print(\"\\nRisk / Expected Cost:\")\n",
        "print(f\"R(A1|x) [Decide Sea Bass] = ${R_A1_x:.4f}\")\n",
        "print(f\"R(A2|x) [Decide Salmon]  = ${R_A2_x:.4f}\")\n",
        "\n",
        "# --------------------------------------------------\n",
        "# 3. Tentukan keputusan berdasarkan minimum risk\n",
        "if R_A1_x < R_A2_x:\n",
        "    decision = \"Sea Bass (ω2)\"\n",
        "else:\n",
        "    decision = \"Salmon (ω1)\"\n",
        "\n",
        "print(f\"\\nKeputusan: Input x = 13 diklasifikasikan sebagai {decision}\")\n"
      ]
    }
  ]
}